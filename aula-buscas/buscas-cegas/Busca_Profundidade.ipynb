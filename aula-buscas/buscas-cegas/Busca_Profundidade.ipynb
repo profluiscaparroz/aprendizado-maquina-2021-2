{
  "nbformat": 4,
  "nbformat_minor": 0,
  "metadata": {
    "colab": {
      "name": "Busca_Profundidade.ipynb",
      "provenance": [],
      "collapsed_sections": []
    },
    "kernelspec": {
      "name": "python3",
      "display_name": "Python 3"
    },
    "language_info": {
      "name": "python"
    }
  },
  "cells": [
    {
      "cell_type": "code",
      "metadata": {
        "id": "IcS6sVNcpafN"
      },
      "source": [
        "from collections import defaultdict\n",
        "\n",
        "# Esta classe representa um garfo direcionado utilizando lista adjacentes\n",
        "class Graph:\n",
        "\n",
        "\t# construtor\n",
        "\tdef __init__(self):\n",
        "\n",
        "\t\t# Estrutura para armazenar o grafo\n",
        "\t\tself.graph = defaultdict(list)\n",
        "\n",
        "\t# função para adicionar uma aresta no grafo\n",
        "  # é passado o vértice origem e destino\n",
        "\tdef addEdge(self, u, v):\n",
        "\t\tself.graph[u].append(v)\n",
        "\n",
        "\tdef DFSUtil(self, v, visited):\n",
        "\n",
        "\t\t# Marca o nó atual como visitado e o imprime na tela\n",
        "\t\tvisited.add(v)\n",
        "\t\tprint(v, end=' ')\n",
        "\n",
        "\t\t# Faz uma função recursiva em todos os vertices\n",
        "\t\t# adjacentes ao vértice atual\n",
        "\t\tfor neighbour in self.graph[v]:\n",
        "\t\t\tif neighbour not in visited:\n",
        "\t\t\t\tself.DFSUtil(neighbour, visited)\n",
        "\n",
        "\tdef DFS(self, v):\n",
        "\n",
        "\t\t# Cria uma lista para armazenar os nós (véritices) visitados\n",
        "\t\tvisited = set()\n",
        "\n",
        "\t\t# Chama a função recursiva e imprime os nós (vértices) visitados\n",
        "\t\t# utilizando o algoritmo de busca em profundidade\n",
        "\t\tself.DFSUtil(v, visited)"
      ],
      "execution_count": 5,
      "outputs": []
    },
    {
      "cell_type": "markdown",
      "metadata": {
        "id": "mVl5oBqVwnfq"
      },
      "source": [
        "### Abaixo a imagem do grafo que iremos reproduzir no algoritmo \n",
        "![hSuIubsRuPdJHFCC.png](data:image/png;base64,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)"
      ]
    },
    {
      "cell_type": "code",
      "metadata": {
        "colab": {
          "base_uri": "https://localhost:8080/"
        },
        "id": "A3KxizdarLjX",
        "outputId": "09cc81cb-35f0-4c4e-ab43-142381d3d2e8"
      },
      "source": [
        "g = Graph()\n",
        "g.addEdge(0, 1)\n",
        "g.addEdge(0, 2)\n",
        "g.addEdge(1, 2)\n",
        "g.addEdge(2, 0)\n",
        "g.addEdge(2, 3)\n",
        "g.addEdge(3, 3)\n",
        "\n",
        "print(\"Following is DFS from (starting from vertex 2)\")\n",
        "g.DFS(2)\n",
        "# This code is contributed by Neelam Yadav"
      ],
      "execution_count": 6,
      "outputs": [
        {
          "output_type": "stream",
          "name": "stdout",
          "text": [
            "Following is DFS from (starting from vertex 2)\n",
            "2 0 1 3 "
          ]
        }
      ]
    }
  ]
}