{
  "nbformat": 4,
  "nbformat_minor": 0,
  "metadata": {
    "colab": {
      "name": "Busca_Largura_exemplo.ipynb",
      "provenance": []
    },
    "kernelspec": {
      "name": "python3",
      "display_name": "Python 3"
    },
    "language_info": {
      "name": "python"
    }
  },
  "cells": [
    {
      "cell_type": "markdown",
      "metadata": {
        "id": "wKjHNcK2rpXl"
      },
      "source": [
        "# Busca em largura em python"
      ]
    },
    {
      "cell_type": "markdown",
      "metadata": {
        "id": "a5yIGSyyrpUp"
      },
      "source": [
        ""
      ]
    },
    {
      "cell_type": "code",
      "metadata": {
        "id": "GkC5GQLcCUBa"
      },
      "source": [
        "# importando a coleção defaultdict da biblioteca collection\n",
        "from collections import defaultdict"
      ],
      "execution_count": 1,
      "outputs": []
    },
    {
      "cell_type": "markdown",
      "metadata": {
        "id": "0l9xWWGhCiHd"
      },
      "source": [
        "# Implementando a classe responsável por criar uma novo grafo "
      ]
    },
    {
      "cell_type": "code",
      "metadata": {
        "id": "6P5b9mmyroG8"
      },
      "source": [
        "# Criar class chamada Grafo \n",
        "class Grafo:\n",
        "    \"\"\"\n",
        "     Método Construtor da classe Grafo\n",
        "     Quando realiza a instância da classe, esse método será o primeiro a ser executado\n",
        "    \"\"\"\n",
        "    def __init__(self):\n",
        "        # Cria um dicionário para armazenar o grafo\n",
        "        self.graph = defaultdict(list)\n",
        "\n",
        "    # Função para adicionar os nós\n",
        "    def addEdge(self,u,v):\n",
        "        # u é a origem e v é o destino\n",
        "        self.graph[u].append(v)\n",
        "\n",
        "    # Função responsável por exibir o grafo do tipo busca em largura\n",
        "    def BFS(self, s):\n",
        " \n",
        "        # Marca todos os vértices como não visitados \n",
        "        visited = [False] * (max(self.graph) + 1)\n",
        " \n",
        "        # Cria uma fila para o BFS\n",
        "        queue = []\n",
        " \n",
        "        # Marque o nó de origem como visitado e coloque-o na fila\n",
        "        queue.append(s)\n",
        "        visited[s] = True\n",
        "\n",
        "        while queue:\n",
        " \n",
        "            # Retira um vértice da file e imprime\n",
        "            s = queue.pop(0)\n",
        "            print (s, end = \" \")\n",
        "\n",
        "            \"\"\"\n",
        "            Obtem todos os vértices adjacentes do\n",
        "            vértice não enfileirado. Se um adjacente\n",
        "            não foi visitado, então ele é marcado como\n",
        "            visitado e é enfilerado para ser imprimido\n",
        "            \"\"\"\n",
        "            for i in self.graph[s]:\n",
        "                if visited[i] == False:\n",
        "                    queue.append(i)\n",
        "                    visited[i] = True\n"
      ],
      "execution_count": 2,
      "outputs": []
    },
    {
      "cell_type": "markdown",
      "metadata": {
        "id": "82qgh0GGvPnE"
      },
      "source": [
        "### Cria o grafo do seguinte desejo\n",
        "![XpkHOyfHDdlHjcoj.png](data:image/png;base64,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)\n",
        "\n"
      ]
    },
    {
      "cell_type": "code",
      "metadata": {
        "id": "XjnDpCuuvTNH"
      },
      "source": [
        "# Criando um grafo passando os nós para quem eles estão se ligando\n",
        "# Instância um objeto g do tipo Grafo\n",
        "g = Grafo()\n",
        "g.addEdge(0, 1)\n",
        "g.addEdge(0, 2)\n",
        "g.addEdge(1, 2)\n",
        "g.addEdge(2, 0)\n",
        "g.addEdge(2, 3)\n",
        "g.addEdge(3, 3)"
      ],
      "execution_count": 3,
      "outputs": []
    },
    {
      "cell_type": "markdown",
      "metadata": {
        "id": "5LuczaeIE6uu"
      },
      "source": [
        "## Executa o programa criado"
      ]
    },
    {
      "cell_type": "code",
      "metadata": {
        "id": "ATqCKxMkE9WW",
        "colab": {
          "base_uri": "https://localhost:8080/"
        },
        "outputId": "9159015f-a6f3-4429-849a-c396e9320a20"
      },
      "source": [
        "print(\"A seguir está o Largura Primeiro Traversal\"\n",
        "                  \" (começando pelo vértice 2)\")\n",
        "# Chamando a função que imprime os vértice e passando como argumento em qual \n",
        "# nó irá começar nesse caso foi o número 2\n",
        "g.BFS(2)"
      ],
      "execution_count": 4,
      "outputs": [
        {
          "output_type": "stream",
          "name": "stdout",
          "text": [
            "A seguir está o Largura Primeiro Traversal (começando pelo vértice 2)\n",
            "2 0 3 1 "
          ]
        }
      ]
    },
    {
      "cell_type": "markdown",
      "metadata": {
        "id": "C6-pyzQLFeoQ"
      },
      "source": [
        "Esse código foi modificado para atender a disciplina de Aprendizagem de máquina\n",
        "\n",
        "O código original pode ser encontrado no link  \n",
        "https://www.geeksforgeeks.org/breadth-first-search-or-bfs-for-a-graph/\n",
        "\n",
        "This code is contributed by Neelam Yadav"
      ]
    },
    {
      "cell_type": "code",
      "metadata": {
        "id": "WeQIdpaoFtUg"
      },
      "source": [
        ""
      ],
      "execution_count": null,
      "outputs": []
    }
  ]
}