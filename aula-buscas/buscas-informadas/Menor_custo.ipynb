{
  "nbformat": 4,
  "nbformat_minor": 0,
  "metadata": {
    "colab": {
      "name": "Menor custo.ipynb",
      "provenance": [],
      "collapsed_sections": []
    },
    "kernelspec": {
      "name": "python3",
      "display_name": "Python 3"
    },
    "language_info": {
      "name": "python"
    }
  },
  "cells": [
    {
      "cell_type": "markdown",
      "metadata": {
        "id": "gBvAoOhV1KAf"
      },
      "source": [
        "## Implementação do Algoritmo de busca uniforma (Menor custo) \n",
        "\n",
        "Fonte: https://www.geeksforgeeks.org/uniform-cost-search-dijkstra-for-large-graphs/?ref=rp "
      ]
    },
    {
      "cell_type": "code",
      "metadata": {
        "colab": {
          "base_uri": "https://localhost:8080/"
        },
        "id": "cSO-GvINox4p",
        "outputId": "75614842-4515-4169-b482-99b2d705aa37"
      },
      "source": [
        "# Retorna o menor custo \n",
        "def uniform_cost_search(goal, start):\n",
        "\t\n",
        "\t# Mínimo custo\n",
        "\t# Inicia o objetivo e a partir de qual nó (vértice) irá começar a busca\n",
        "\tglobal graph,cost\n",
        "\tanswer = []\n",
        "\n",
        "\t# Cria uma lista de prioridades\n",
        "\tqueue = []\n",
        "\n",
        "\t# set the answer vector to max value\n",
        "\tfor i in range(len(goal)):\n",
        "\t\tanswer.append(10**8)\n",
        "\n",
        "\t# insere o vértice inicial\n",
        "\tqueue.append([0, start])\n",
        "\n",
        "\t# estrutura usada para armazenar os vértices visitádos \n",
        "\tvisited = {}\n",
        "\tcount = 0\n",
        "\n",
        "\t# Enqaunto o fila não estiver vazia\n",
        "\twhile (len(queue) > 0):\n",
        "\n",
        "\t\t# Recupera o elemento do topo\n",
        "\t\tqueue = sorted(queue)\n",
        "\t\tp = queue[-1]\n",
        "\n",
        "\t\t# Retira o elemento inicial\n",
        "\t\tdel queue[-1]\n",
        "\n",
        "\t\t# Pega o valor original\n",
        "\t\tp[0] *= -1\n",
        "\n",
        "\t\t# Verifica se o nó é o objetivo\n",
        "\t\tif (p[1] in goal):\n",
        "\n",
        "\t\t\t# Pega a posição\n",
        "\t\t\tindex = goal.index(p[1])\n",
        "\n",
        "\t\t\t# Se um novo objetivo é alcançado\n",
        "\t\t\tif (answer[index] == 10**8):\n",
        "\t\t\t\tcount += 1\n",
        "\n",
        "\t\t\t# Se o custo é menor\n",
        "\t\t\tif (answer[index] > p[0]):\n",
        "\t\t\t\tanswer[index] = p[0]\n",
        "\n",
        "\t\t\t# pop the element\n",
        "\t\t\tdel queue[-1]\n",
        "\n",
        "\t\t\tqueue = sorted(queue)\n",
        "\t\t\tif (count == len(goal)):\n",
        "\t\t\t\treturn answer\n",
        "\n",
        "\t\t# check for the non visited nodes\n",
        "\t\t# which are adjacent to present node\n",
        "\t\tif (p[1] not in visited):\n",
        "\t\t\tfor i in range(len(graph[p[1]])):\n",
        "\n",
        "\t\t\t\t# value is multiplied by -1 so that\n",
        "\t\t\t\t# least priority is at the top\n",
        "\t\t\t\tqueue.append( [(p[0] + cost[(p[1], graph[p[1]][i])])* -1, graph[p[1]][i]])\n",
        "\n",
        "\t\t# mark as visited\n",
        "\t\tvisited[p[1]] = 1\n",
        "\n",
        "\treturn answer\n",
        "\n",
        "# Função main \n",
        "if __name__ == '__main__':\n",
        "\t\n",
        "\t# Cria o grafo\n",
        "\tgraph,cost = [[] for i in range(8)],{}\n",
        "\n",
        "\t# add as arestas \n",
        "\tgraph[0].append(1)\n",
        "\tgraph[0].append(3)\n",
        "\tgraph[3].append(1)\n",
        "\tgraph[3].append(6)\n",
        "\tgraph[3].append(4)\n",
        "\tgraph[1].append(6)\n",
        "\tgraph[4].append(2)\n",
        "\tgraph[4].append(5)\n",
        "\tgraph[2].append(1)\n",
        "\tgraph[5].append(2)\n",
        "\tgraph[5].append(6)\n",
        "\tgraph[6].append(4)\n",
        "\n",
        "\t# add o custo/peso de cada aresta\n",
        "\tcost[(0, 1)] = 2\n",
        "\tcost[(0, 3)] = 5\n",
        "\tcost[(1, 6)] = 1\n",
        "\tcost[(3, 1)] = 5\n",
        "\tcost[(3, 6)] = 6\n",
        "\tcost[(3, 4)] = 2\n",
        "\tcost[(2, 1)] = 4\n",
        "\tcost[(4, 2)] = 4\n",
        "\tcost[(4, 5)] = 3\n",
        "\tcost[(5, 2)] = 6\n",
        "\tcost[(5, 6)] = 3\n",
        "\tcost[(6, 4)] = 7\n",
        "\n",
        "\t# Objetivo\n",
        "\tgoal = []\n",
        "\n",
        "\t# Define o objetivo\n",
        "\t# Podemos adicionais vários objetivos\n",
        "\tgoal.append(6)\n",
        "\n",
        "\t# Recupera o custo final\n",
        "\tanswer = uniform_cost_search(goal, 0)\n",
        "\n",
        "\t# print the answer\n",
        "\tprint(\"Custo mínimo a partir do 0 até 6 é = \",answer[0])\n",
        "\n",
        "# This code is contributed by mohit kumar 29"
      ],
      "execution_count": 4,
      "outputs": [
        {
          "output_type": "stream",
          "name": "stdout",
          "text": [
            "Custo mínimo a partir do 0 até 6 é =  3\n"
          ]
        }
      ]
    },
    {
      "cell_type": "code",
      "metadata": {
        "id": "by4k98tgrACp"
      },
      "source": [
        ""
      ],
      "execution_count": null,
      "outputs": []
    }
  ]
}